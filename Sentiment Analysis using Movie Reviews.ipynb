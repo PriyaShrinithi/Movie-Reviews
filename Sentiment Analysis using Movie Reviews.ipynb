{
 "cells": [
  {
   "cell_type": "code",
   "execution_count": 1,
   "id": "388c8df1",
   "metadata": {},
   "outputs": [],
   "source": [
    "import numpy as np\n",
    "import regex as re\n",
    "import pandas as pd\n",
    "import gc\n",
    "import logging\n",
    "from sklearn.feature_extraction.text import CountVectorizer, TfidfTransformer\n",
    "import string\n",
    "import nltk as nlp\n",
    "from nltk.corpus import stopwords\n",
    "from nltk.stem import PorterStemmer, WordNetLemmatizer\n",
    "from nltk.tokenize import word_tokenize\n",
    "from gensim.models import Word2Vec, KeyedVectors\n",
    "#from gensim.test.utils import common_texts\n",
    "#from collections import Counter #like map but worse cuz it senses only the tally --> not for computation :(\n",
    "from tensorflow.python.client import device_lib\n",
    "import tensorflow as tf\n",
    "from tensorflow import keras\n",
    "from tensorflow.keras import layers"
   ]
  },
  {
   "cell_type": "code",
   "execution_count": 2,
   "id": "47e3ce06",
   "metadata": {},
   "outputs": [
    {
     "name": "stdout",
     "output_type": "stream",
     "text": [
      "[name: \"/device:CPU:0\"\n",
      "device_type: \"CPU\"\n",
      "memory_limit: 268435456\n",
      "locality {\n",
      "}\n",
      "incarnation: 4711559196811733207\n",
      ", name: \"/device:GPU:0\"\n",
      "device_type: \"GPU\"\n",
      "memory_limit: 2907098318\n",
      "locality {\n",
      "  bus_id: 1\n",
      "  links {\n",
      "  }\n",
      "}\n",
      "incarnation: 7788326661296675216\n",
      "physical_device_desc: \"device: 0, name: GeForce GTX 1050 Ti, pci bus id: 0000:01:00.0, compute capability: 6.1\"\n",
      "]\n"
     ]
    }
   ],
   "source": [
    "print(device_lib.list_local_devices())"
   ]
  },
  {
   "cell_type": "code",
   "execution_count": 3,
   "id": "6b95a0a4",
   "metadata": {},
   "outputs": [
    {
     "name": "stdout",
     "output_type": "stream",
     "text": [
      "True\n"
     ]
    }
   ],
   "source": [
    "print(tf.test.is_built_with_cuda())"
   ]
  },
  {
   "cell_type": "markdown",
   "id": "8e8b87ff",
   "metadata": {},
   "source": [
    "#### LOADING IMDB DATASET"
   ]
  },
  {
   "cell_type": "code",
   "execution_count": 4,
   "id": "681057ae",
   "metadata": {},
   "outputs": [],
   "source": [
    "dataframe = pd.read_csv(r'..\\\\IMDB Dataset.csv')"
   ]
  },
  {
   "cell_type": "code",
   "execution_count": 5,
   "id": "9fd22fba",
   "metadata": {},
   "outputs": [
    {
     "data": {
      "text/html": [
       "<div>\n",
       "<style scoped>\n",
       "    .dataframe tbody tr th:only-of-type {\n",
       "        vertical-align: middle;\n",
       "    }\n",
       "\n",
       "    .dataframe tbody tr th {\n",
       "        vertical-align: top;\n",
       "    }\n",
       "\n",
       "    .dataframe thead th {\n",
       "        text-align: right;\n",
       "    }\n",
       "</style>\n",
       "<table border=\"1\" class=\"dataframe\">\n",
       "  <thead>\n",
       "    <tr style=\"text-align: right;\">\n",
       "      <th></th>\n",
       "      <th>review</th>\n",
       "      <th>sentiment</th>\n",
       "    </tr>\n",
       "  </thead>\n",
       "  <tbody>\n",
       "    <tr>\n",
       "      <th>0</th>\n",
       "      <td>One of the other reviewers has mentioned that ...</td>\n",
       "      <td>positive</td>\n",
       "    </tr>\n",
       "    <tr>\n",
       "      <th>1</th>\n",
       "      <td>A wonderful little production. &lt;br /&gt;&lt;br /&gt;The...</td>\n",
       "      <td>positive</td>\n",
       "    </tr>\n",
       "    <tr>\n",
       "      <th>2</th>\n",
       "      <td>I thought this was a wonderful way to spend ti...</td>\n",
       "      <td>positive</td>\n",
       "    </tr>\n",
       "    <tr>\n",
       "      <th>3</th>\n",
       "      <td>Basically there's a family where a little boy ...</td>\n",
       "      <td>negative</td>\n",
       "    </tr>\n",
       "    <tr>\n",
       "      <th>4</th>\n",
       "      <td>Petter Mattei's \"Love in the Time of Money\" is...</td>\n",
       "      <td>positive</td>\n",
       "    </tr>\n",
       "  </tbody>\n",
       "</table>\n",
       "</div>"
      ],
      "text/plain": [
       "                                              review sentiment\n",
       "0  One of the other reviewers has mentioned that ...  positive\n",
       "1  A wonderful little production. <br /><br />The...  positive\n",
       "2  I thought this was a wonderful way to spend ti...  positive\n",
       "3  Basically there's a family where a little boy ...  negative\n",
       "4  Petter Mattei's \"Love in the Time of Money\" is...  positive"
      ]
     },
     "execution_count": 5,
     "metadata": {},
     "output_type": "execute_result"
    }
   ],
   "source": [
    "dataframe.head()"
   ]
  },
  {
   "cell_type": "code",
   "execution_count": 6,
   "id": "45f3a326",
   "metadata": {
    "scrolled": true
   },
   "outputs": [
    {
     "data": {
      "text/html": [
       "<div>\n",
       "<style scoped>\n",
       "    .dataframe tbody tr th:only-of-type {\n",
       "        vertical-align: middle;\n",
       "    }\n",
       "\n",
       "    .dataframe tbody tr th {\n",
       "        vertical-align: top;\n",
       "    }\n",
       "\n",
       "    .dataframe thead th {\n",
       "        text-align: right;\n",
       "    }\n",
       "</style>\n",
       "<table border=\"1\" class=\"dataframe\">\n",
       "  <thead>\n",
       "    <tr style=\"text-align: right;\">\n",
       "      <th></th>\n",
       "      <th>review</th>\n",
       "      <th>sentiment</th>\n",
       "    </tr>\n",
       "  </thead>\n",
       "  <tbody>\n",
       "    <tr>\n",
       "      <th>count</th>\n",
       "      <td>50000</td>\n",
       "      <td>50000</td>\n",
       "    </tr>\n",
       "    <tr>\n",
       "      <th>unique</th>\n",
       "      <td>49582</td>\n",
       "      <td>2</td>\n",
       "    </tr>\n",
       "    <tr>\n",
       "      <th>top</th>\n",
       "      <td>Loved today's show!!! It was a variety and not...</td>\n",
       "      <td>positive</td>\n",
       "    </tr>\n",
       "    <tr>\n",
       "      <th>freq</th>\n",
       "      <td>5</td>\n",
       "      <td>25000</td>\n",
       "    </tr>\n",
       "  </tbody>\n",
       "</table>\n",
       "</div>"
      ],
      "text/plain": [
       "                                                   review sentiment\n",
       "count                                               50000     50000\n",
       "unique                                              49582         2\n",
       "top     Loved today's show!!! It was a variety and not...  positive\n",
       "freq                                                    5     25000"
      ]
     },
     "execution_count": 6,
     "metadata": {},
     "output_type": "execute_result"
    }
   ],
   "source": [
    "dataframe.describe()"
   ]
  },
  {
   "cell_type": "code",
   "execution_count": 7,
   "id": "3d05ea64",
   "metadata": {},
   "outputs": [
    {
     "data": {
      "text/plain": [
       "(50000, 2)"
      ]
     },
     "execution_count": 7,
     "metadata": {},
     "output_type": "execute_result"
    }
   ],
   "source": [
    "np.shape(dataframe)"
   ]
  },
  {
   "cell_type": "code",
   "execution_count": 8,
   "id": "efc35164",
   "metadata": {},
   "outputs": [
    {
     "data": {
      "text/html": [
       "<div>\n",
       "<style scoped>\n",
       "    .dataframe tbody tr th:only-of-type {\n",
       "        vertical-align: middle;\n",
       "    }\n",
       "\n",
       "    .dataframe tbody tr th {\n",
       "        vertical-align: top;\n",
       "    }\n",
       "\n",
       "    .dataframe thead th {\n",
       "        text-align: right;\n",
       "    }\n",
       "</style>\n",
       "<table border=\"1\" class=\"dataframe\">\n",
       "  <thead>\n",
       "    <tr style=\"text-align: right;\">\n",
       "      <th></th>\n",
       "      <th>review</th>\n",
       "      <th>sentiment</th>\n",
       "    </tr>\n",
       "  </thead>\n",
       "  <tbody>\n",
       "    <tr>\n",
       "      <th>0</th>\n",
       "      <td>One of the other reviewers has mentioned that ...</td>\n",
       "      <td>1</td>\n",
       "    </tr>\n",
       "    <tr>\n",
       "      <th>1</th>\n",
       "      <td>A wonderful little production. &lt;br /&gt;&lt;br /&gt;The...</td>\n",
       "      <td>1</td>\n",
       "    </tr>\n",
       "    <tr>\n",
       "      <th>2</th>\n",
       "      <td>I thought this was a wonderful way to spend ti...</td>\n",
       "      <td>1</td>\n",
       "    </tr>\n",
       "    <tr>\n",
       "      <th>3</th>\n",
       "      <td>Basically there's a family where a little boy ...</td>\n",
       "      <td>0</td>\n",
       "    </tr>\n",
       "    <tr>\n",
       "      <th>4</th>\n",
       "      <td>Petter Mattei's \"Love in the Time of Money\" is...</td>\n",
       "      <td>1</td>\n",
       "    </tr>\n",
       "  </tbody>\n",
       "</table>\n",
       "</div>"
      ],
      "text/plain": [
       "                                              review  sentiment\n",
       "0  One of the other reviewers has mentioned that ...          1\n",
       "1  A wonderful little production. <br /><br />The...          1\n",
       "2  I thought this was a wonderful way to spend ti...          1\n",
       "3  Basically there's a family where a little boy ...          0\n",
       "4  Petter Mattei's \"Love in the Time of Money\" is...          1"
      ]
     },
     "execution_count": 8,
     "metadata": {},
     "output_type": "execute_result"
    }
   ],
   "source": [
    "dataframe['sentiment'] = dataframe['sentiment'].replace('positive', 1)\n",
    "dataframe['sentiment'] = dataframe['sentiment'].replace('negative', 0)\n",
    "dataframe.head()\n",
    "#in case of non-binary classes it makes more sense to use label encoder rather than replace"
   ]
  },
  {
   "cell_type": "markdown",
   "id": "33da55ee",
   "metadata": {},
   "source": [
    "#### CHECK FOR NULLS AND DUPLICATES"
   ]
  },
  {
   "cell_type": "code",
   "execution_count": 9,
   "id": "9085d929",
   "metadata": {},
   "outputs": [
    {
     "data": {
      "text/plain": [
       "review       0\n",
       "sentiment    0\n",
       "dtype: int64"
      ]
     },
     "execution_count": 9,
     "metadata": {},
     "output_type": "execute_result"
    }
   ],
   "source": [
    "dataframe.isnull().sum()"
   ]
  },
  {
   "cell_type": "code",
   "execution_count": 10,
   "id": "e9bfe299",
   "metadata": {},
   "outputs": [
    {
     "data": {
      "text/plain": [
       "418"
      ]
     },
     "execution_count": 10,
     "metadata": {},
     "output_type": "execute_result"
    }
   ],
   "source": [
    "dataframe.duplicated().sum()"
   ]
  },
  {
   "cell_type": "code",
   "execution_count": 11,
   "id": "4ca4f745",
   "metadata": {},
   "outputs": [],
   "source": [
    "dataframe.drop_duplicates(subset='review', keep='first', inplace=True)"
   ]
  },
  {
   "cell_type": "code",
   "execution_count": 12,
   "id": "02fdd713",
   "metadata": {},
   "outputs": [
    {
     "data": {
      "text/plain": [
       "(49582, 2)"
      ]
     },
     "execution_count": 12,
     "metadata": {},
     "output_type": "execute_result"
    }
   ],
   "source": [
    "np.shape(dataframe)"
   ]
  },
  {
   "cell_type": "code",
   "execution_count": 13,
   "id": "c7aef307",
   "metadata": {},
   "outputs": [
    {
     "data": {
      "text/plain": [
       "0"
      ]
     },
     "execution_count": 13,
     "metadata": {},
     "output_type": "execute_result"
    }
   ],
   "source": [
    "dataframe.duplicated().sum()"
   ]
  },
  {
   "cell_type": "code",
   "execution_count": 14,
   "id": "d2549f77",
   "metadata": {},
   "outputs": [
    {
     "data": {
      "text/html": [
       "<div>\n",
       "<style scoped>\n",
       "    .dataframe tbody tr th:only-of-type {\n",
       "        vertical-align: middle;\n",
       "    }\n",
       "\n",
       "    .dataframe tbody tr th {\n",
       "        vertical-align: top;\n",
       "    }\n",
       "\n",
       "    .dataframe thead th {\n",
       "        text-align: right;\n",
       "    }\n",
       "</style>\n",
       "<table border=\"1\" class=\"dataframe\">\n",
       "  <thead>\n",
       "    <tr style=\"text-align: right;\">\n",
       "      <th></th>\n",
       "      <th>review</th>\n",
       "      <th>sentiment</th>\n",
       "    </tr>\n",
       "  </thead>\n",
       "  <tbody>\n",
       "    <tr>\n",
       "      <th>0</th>\n",
       "      <td>One of the other reviewers has mentioned that ...</td>\n",
       "      <td>1</td>\n",
       "    </tr>\n",
       "    <tr>\n",
       "      <th>1</th>\n",
       "      <td>A wonderful little production. &lt;br /&gt;&lt;br /&gt;The...</td>\n",
       "      <td>1</td>\n",
       "    </tr>\n",
       "    <tr>\n",
       "      <th>2</th>\n",
       "      <td>I thought this was a wonderful way to spend ti...</td>\n",
       "      <td>1</td>\n",
       "    </tr>\n",
       "    <tr>\n",
       "      <th>3</th>\n",
       "      <td>Basically there's a family where a little boy ...</td>\n",
       "      <td>0</td>\n",
       "    </tr>\n",
       "    <tr>\n",
       "      <th>4</th>\n",
       "      <td>Petter Mattei's \"Love in the Time of Money\" is...</td>\n",
       "      <td>1</td>\n",
       "    </tr>\n",
       "  </tbody>\n",
       "</table>\n",
       "</div>"
      ],
      "text/plain": [
       "                                              review  sentiment\n",
       "0  One of the other reviewers has mentioned that ...          1\n",
       "1  A wonderful little production. <br /><br />The...          1\n",
       "2  I thought this was a wonderful way to spend ti...          1\n",
       "3  Basically there's a family where a little boy ...          0\n",
       "4  Petter Mattei's \"Love in the Time of Money\" is...          1"
      ]
     },
     "execution_count": 14,
     "metadata": {},
     "output_type": "execute_result"
    }
   ],
   "source": [
    "dataframe.head()"
   ]
  },
  {
   "cell_type": "markdown",
   "id": "80729c76",
   "metadata": {},
   "source": [
    "#### split into test and train samples"
   ]
  },
  {
   "cell_type": "markdown",
   "id": "b6d85945",
   "metadata": {},
   "source": [
    "#### REMOVING NON-WORD CHARACTERS FROM THE DATASET"
   ]
  },
  {
   "cell_type": "code",
   "execution_count": 15,
   "id": "1b8afb63",
   "metadata": {},
   "outputs": [],
   "source": [
    "def preprocess(text, pattern):\n",
    "    if pattern=='[.]+':\n",
    "        text = re.sub(pattern, '. ', text)\n",
    "    elif pattern ==\"[']\":\n",
    "        text =  re.sub(pattern, ' ', text)\n",
    "    else:\n",
    "        text = re.sub(pattern, '', text)\n",
    "    #print(text, '\\n')\n",
    "    return text"
   ]
  },
  {
   "cell_type": "code",
   "execution_count": 16,
   "id": "62e14af0",
   "metadata": {},
   "outputs": [],
   "source": [
    "dataframe['review'] = np.vectorize(preprocess)(dataframe['review'], '<[^>]*>') #remove markup\n",
    "#print(dataframe.loc[0, 'review'])\n",
    "#dataframe.head()"
   ]
  },
  {
   "cell_type": "code",
   "execution_count": 17,
   "id": "47cafa30",
   "metadata": {},
   "outputs": [],
   "source": [
    "dataframe['review'] = np.vectorize(preprocess)(dataframe['review'], '[.]+') #remove ... and replace with .\n",
    "#print(dataframe.loc[0, 'review'])\n",
    "#dataframe.head()"
   ]
  },
  {
   "cell_type": "code",
   "execution_count": 18,
   "id": "b6f5ba5a",
   "metadata": {},
   "outputs": [],
   "source": [
    "dataframe['review'] = np.vectorize(preprocess)(dataframe['review'], '[0-9]+') #remove numbers and replace with none\n",
    "#print(dataframe.loc[0, 'review'])\n",
    "#dataframe.head()"
   ]
  },
  {
   "cell_type": "code",
   "execution_count": 19,
   "id": "61df9b0b",
   "metadata": {},
   "outputs": [
    {
     "data": {
      "text/html": [
       "<div>\n",
       "<style scoped>\n",
       "    .dataframe tbody tr th:only-of-type {\n",
       "        vertical-align: middle;\n",
       "    }\n",
       "\n",
       "    .dataframe tbody tr th {\n",
       "        vertical-align: top;\n",
       "    }\n",
       "\n",
       "    .dataframe thead th {\n",
       "        text-align: right;\n",
       "    }\n",
       "</style>\n",
       "<table border=\"1\" class=\"dataframe\">\n",
       "  <thead>\n",
       "    <tr style=\"text-align: right;\">\n",
       "      <th></th>\n",
       "      <th>review</th>\n",
       "      <th>sentiment</th>\n",
       "    </tr>\n",
       "  </thead>\n",
       "  <tbody>\n",
       "    <tr>\n",
       "      <th>0</th>\n",
       "      <td>One of the other reviewers has mentioned that ...</td>\n",
       "      <td>1</td>\n",
       "    </tr>\n",
       "    <tr>\n",
       "      <th>1</th>\n",
       "      <td>A wonderful little production.  The filming te...</td>\n",
       "      <td>1</td>\n",
       "    </tr>\n",
       "    <tr>\n",
       "      <th>2</th>\n",
       "      <td>I thought this was a wonderful way to spend ti...</td>\n",
       "      <td>1</td>\n",
       "    </tr>\n",
       "    <tr>\n",
       "      <th>3</th>\n",
       "      <td>Basically there s a family where a little boy ...</td>\n",
       "      <td>0</td>\n",
       "    </tr>\n",
       "    <tr>\n",
       "      <th>4</th>\n",
       "      <td>Petter Mattei s \"Love in the Time of Money\" is...</td>\n",
       "      <td>1</td>\n",
       "    </tr>\n",
       "  </tbody>\n",
       "</table>\n",
       "</div>"
      ],
      "text/plain": [
       "                                              review  sentiment\n",
       "0  One of the other reviewers has mentioned that ...          1\n",
       "1  A wonderful little production.  The filming te...          1\n",
       "2  I thought this was a wonderful way to spend ti...          1\n",
       "3  Basically there s a family where a little boy ...          0\n",
       "4  Petter Mattei s \"Love in the Time of Money\" is...          1"
      ]
     },
     "execution_count": 19,
     "metadata": {},
     "output_type": "execute_result"
    }
   ],
   "source": [
    "dataframe['review'] = np.vectorize(preprocess)(dataframe['review'], \"[']\") #remove ' and replace with \n",
    "#print(dataframe.loc[0, 'review'])\n",
    "dataframe.head()"
   ]
  },
  {
   "cell_type": "code",
   "execution_count": 20,
   "id": "b0643c0b",
   "metadata": {},
   "outputs": [
    {
     "data": {
      "text/plain": [
       "0"
      ]
     },
     "execution_count": 20,
     "metadata": {},
     "output_type": "execute_result"
    }
   ],
   "source": [
    "gc.collect()"
   ]
  },
  {
   "cell_type": "code",
   "execution_count": 21,
   "id": "86d225b4",
   "metadata": {},
   "outputs": [
    {
     "data": {
      "text/html": [
       "<div>\n",
       "<style scoped>\n",
       "    .dataframe tbody tr th:only-of-type {\n",
       "        vertical-align: middle;\n",
       "    }\n",
       "\n",
       "    .dataframe tbody tr th {\n",
       "        vertical-align: top;\n",
       "    }\n",
       "\n",
       "    .dataframe thead th {\n",
       "        text-align: right;\n",
       "    }\n",
       "</style>\n",
       "<table border=\"1\" class=\"dataframe\">\n",
       "  <thead>\n",
       "    <tr style=\"text-align: right;\">\n",
       "      <th></th>\n",
       "      <th>review</th>\n",
       "      <th>sentiment</th>\n",
       "    </tr>\n",
       "  </thead>\n",
       "  <tbody>\n",
       "    <tr>\n",
       "      <th>0</th>\n",
       "      <td>One of the other reviewers has mentioned that ...</td>\n",
       "      <td>1</td>\n",
       "    </tr>\n",
       "    <tr>\n",
       "      <th>1</th>\n",
       "      <td>A wonderful little production  The filming tec...</td>\n",
       "      <td>1</td>\n",
       "    </tr>\n",
       "    <tr>\n",
       "      <th>2</th>\n",
       "      <td>I thought this was a wonderful way to spend ti...</td>\n",
       "      <td>1</td>\n",
       "    </tr>\n",
       "    <tr>\n",
       "      <th>3</th>\n",
       "      <td>Basically there s a family where a little boy ...</td>\n",
       "      <td>0</td>\n",
       "    </tr>\n",
       "    <tr>\n",
       "      <th>4</th>\n",
       "      <td>Petter Mattei s Love in the Time of Money is a...</td>\n",
       "      <td>1</td>\n",
       "    </tr>\n",
       "  </tbody>\n",
       "</table>\n",
       "</div>"
      ],
      "text/plain": [
       "                                              review  sentiment\n",
       "0  One of the other reviewers has mentioned that ...          1\n",
       "1  A wonderful little production  The filming tec...          1\n",
       "2  I thought this was a wonderful way to spend ti...          1\n",
       "3  Basically there s a family where a little boy ...          0\n",
       "4  Petter Mattei s Love in the Time of Money is a...          1"
      ]
     },
     "execution_count": 21,
     "metadata": {},
     "output_type": "execute_result"
    }
   ],
   "source": [
    "dataframe['review'] = np.vectorize(preprocess)(dataframe['review'], '[^\\w\\s]*') #remove everything that's not word space or '\n",
    "# ' is left to handle contractions\n",
    "#print(dataframe.loc[0, 'review'])\n",
    "dataframe.head()"
   ]
  },
  {
   "cell_type": "code",
   "execution_count": 22,
   "id": "16cd0020",
   "metadata": {},
   "outputs": [
    {
     "data": {
      "text/html": [
       "<div>\n",
       "<style scoped>\n",
       "    .dataframe tbody tr th:only-of-type {\n",
       "        vertical-align: middle;\n",
       "    }\n",
       "\n",
       "    .dataframe tbody tr th {\n",
       "        vertical-align: top;\n",
       "    }\n",
       "\n",
       "    .dataframe thead th {\n",
       "        text-align: right;\n",
       "    }\n",
       "</style>\n",
       "<table border=\"1\" class=\"dataframe\">\n",
       "  <thead>\n",
       "    <tr style=\"text-align: right;\">\n",
       "      <th></th>\n",
       "      <th>review</th>\n",
       "      <th>sentiment</th>\n",
       "    </tr>\n",
       "  </thead>\n",
       "  <tbody>\n",
       "    <tr>\n",
       "      <th>0</th>\n",
       "      <td>one of the other reviewers has mentioned that ...</td>\n",
       "      <td>1</td>\n",
       "    </tr>\n",
       "    <tr>\n",
       "      <th>1</th>\n",
       "      <td>a wonderful little production  the filming tec...</td>\n",
       "      <td>1</td>\n",
       "    </tr>\n",
       "    <tr>\n",
       "      <th>2</th>\n",
       "      <td>i thought this was a wonderful way to spend ti...</td>\n",
       "      <td>1</td>\n",
       "    </tr>\n",
       "    <tr>\n",
       "      <th>3</th>\n",
       "      <td>basically there s a family where a little boy ...</td>\n",
       "      <td>0</td>\n",
       "    </tr>\n",
       "    <tr>\n",
       "      <th>4</th>\n",
       "      <td>petter mattei s love in the time of money is a...</td>\n",
       "      <td>1</td>\n",
       "    </tr>\n",
       "  </tbody>\n",
       "</table>\n",
       "</div>"
      ],
      "text/plain": [
       "                                              review  sentiment\n",
       "0  one of the other reviewers has mentioned that ...          1\n",
       "1  a wonderful little production  the filming tec...          1\n",
       "2  i thought this was a wonderful way to spend ti...          1\n",
       "3  basically there s a family where a little boy ...          0\n",
       "4  petter mattei s love in the time of money is a...          1"
      ]
     },
     "execution_count": 22,
     "metadata": {},
     "output_type": "execute_result"
    }
   ],
   "source": [
    "dataframe['review'] = dataframe['review'].str.lower()#make it lower\n",
    "#print(dataframe.loc[0, 'review'])\n",
    "dataframe.head()"
   ]
  },
  {
   "cell_type": "code",
   "execution_count": 23,
   "id": "256b5478",
   "metadata": {},
   "outputs": [
    {
     "name": "stdout",
     "output_type": "stream",
     "text": [
      "one of the other reviewers has mentioned that after watching just  oz episode you ll be hooked  they are right as this is exactly what happened with me the first thing that struck me about oz was its brutality and unflinching scenes of violence which set in right from the word go  trust me this is not a show for the faint hearted or timid  this show pulls no punches with regards to drugs sex or violence  its is hardcore in the classic use of the word it is called oz as that is the nickname given to the oswald maximum security state penitentary  it focuses mainly on emerald city an experimental section of the prison where all the cells have glass fronts and face inwards so privacy is not high on the agenda  em city is home to many aryans muslims gangstas latinos christians italians irish and more so scuffles death stares dodgy dealings and shady agreements are never far away i would say the main appeal of the show is due to the fact that it goes where other shows wouldn t dare  forget pretty pictures painted for mainstream audiences forget charm forget romance oz doesn t mess around  the first episode i ever saw struck me as so nasty it was surreal i couldn t say i was ready for it but as i watched more i developed a taste for oz and got accustomed to the high levels of graphic violence  not just violence but injustice crooked guards who ll be sold out for a nickel inmates who ll kill on order and get away with it well mannered middle class inmates being turned into prison bitches due to their lack of street skills or prison experience watching oz you may become comfortable with what is uncomfortable viewing thats if you can get in touch with your darker side \n"
     ]
    }
   ],
   "source": [
    "print(dataframe.loc[0, 'review'])"
   ]
  },
  {
   "cell_type": "markdown",
   "id": "6fa93472",
   "metadata": {},
   "source": [
    "#### DOES IT MAKE SENSE TO REMOVE SOME WORDS TO REDUCE COMPUTATION?"
   ]
  },
  {
   "cell_type": "code",
   "execution_count": 24,
   "id": "4f5d71a3",
   "metadata": {},
   "outputs": [
    {
     "data": {
      "text/plain": [
       "148992"
      ]
     },
     "execution_count": 24,
     "metadata": {},
     "output_type": "execute_result"
    }
   ],
   "source": [
    "count = CountVectorizer()\n",
    "bag = count.fit_transform(dataframe['review'])\n",
    "len(count.vocabulary_)"
   ]
  },
  {
   "cell_type": "markdown",
   "id": "a0a0adb4",
   "metadata": {},
   "source": [
    "#### Got over 2 Lakh words --> it makes sense to remove some words like articles and prepositions out\n",
    "#### Better to remove stop words first (Why? --> documentation wip)"
   ]
  },
  {
   "cell_type": "code",
   "execution_count": 25,
   "id": "c4de14a7",
   "metadata": {},
   "outputs": [],
   "source": [
    "#something with tfidf\n",
    "#question: does it make sense to do tfidf first and then remove stop words using the nltk corpus or \n",
    "#remove stop words using the corpus first then perform tfidf next"
   ]
  },
  {
   "cell_type": "code",
   "execution_count": 26,
   "id": "150a08c6",
   "metadata": {},
   "outputs": [
    {
     "name": "stderr",
     "output_type": "stream",
     "text": [
      "[nltk_data] Downloading package stopwords to\n",
      "[nltk_data]     C:\\Users\\rps24\\AppData\\Roaming\\nltk_data...\n",
      "[nltk_data]   Package stopwords is already up-to-date!\n"
     ]
    },
    {
     "data": {
      "text/plain": [
       "True"
      ]
     },
     "execution_count": 26,
     "metadata": {},
     "output_type": "execute_result"
    }
   ],
   "source": [
    "nlp.download('stopwords')"
   ]
  },
  {
   "cell_type": "code",
   "execution_count": 27,
   "id": "cbab1086",
   "metadata": {},
   "outputs": [],
   "source": [
    "stop = set(stopwords.words('english')) #set makes serach O(1)\n",
    "#originally stopwords.words('english') yields a list\n",
    "#print(stop)"
   ]
  },
  {
   "cell_type": "code",
   "execution_count": 28,
   "id": "9cf31724",
   "metadata": {},
   "outputs": [],
   "source": [
    "ps  = PorterStemmer()"
   ]
  },
  {
   "cell_type": "code",
   "execution_count": 29,
   "id": "1db337c8",
   "metadata": {},
   "outputs": [],
   "source": [
    "def remove_stopwords_and_stem(text):\n",
    "    text_ = word_tokenize(text)\n",
    "    tokens = []\n",
    "    #print(text_)\n",
    "    for word in text_:\n",
    "        if word not in stop:\n",
    "            tokens.append(ps.stem(word))\n",
    "    #return lemmatization(tokens)\n",
    "    #print(tokens)\n",
    "    text = ' '.join(tokens) #send only tokens sent as a joined sentence\n",
    "    return text "
   ]
  },
  {
   "cell_type": "code",
   "execution_count": 30,
   "id": "9b4aaa0f",
   "metadata": {},
   "outputs": [
    {
     "name": "stdout",
     "output_type": "stream",
     "text": [
      "one review mention watch oz episod hook right exactli happen first thing struck oz brutal unflinch scene violenc set right word go trust show faint heart timid show pull punch regard drug sex violenc hardcor classic use word call oz nicknam given oswald maximum secur state penitentari focus mainli emerald citi experiment section prison cell glass front face inward privaci high agenda em citi home mani aryan muslim gangsta latino christian italian irish scuffl death stare dodgi deal shadi agreement never far away would say main appeal show due fact goe show dare forget pretti pictur paint mainstream audienc forget charm forget romanc oz mess around first episod ever saw struck nasti surreal say readi watch develop tast oz got accustom high level graphic violenc violenc injustic crook guard sold nickel inmat kill order get away well manner middl class inmat turn prison bitch due lack street skill prison experi watch oz may becom comfort uncomfort view that get touch darker side\n"
     ]
    }
   ],
   "source": [
    "dataframe['review'] = np.vectorize(remove_stopwords_and_stem)(dataframe['review'])\n",
    "print(dataframe.loc[0, 'review'])"
   ]
  },
  {
   "cell_type": "code",
   "execution_count": 31,
   "id": "11330b31",
   "metadata": {},
   "outputs": [
    {
     "name": "stderr",
     "output_type": "stream",
     "text": [
      "[nltk_data] Downloading package wordnet to\n",
      "[nltk_data]     C:\\Users\\rps24\\AppData\\Roaming\\nltk_data...\n",
      "[nltk_data]   Package wordnet is already up-to-date!\n"
     ]
    }
   ],
   "source": [
    "lemmatizer = WordNetLemmatizer()\n",
    "nlp.download('wordnet')\n",
    "reviews = []"
   ]
  },
  {
   "cell_type": "code",
   "execution_count": 32,
   "id": "a80109d4",
   "metadata": {},
   "outputs": [],
   "source": [
    "def lemmatization(text):\n",
    "    text_ = word_tokenize(text)\n",
    "    tokens = []\n",
    "    for word in text_:\n",
    "        tokens.append(lemmatizer.lemmatize(word))\n",
    "    text = ' '.join(tokens)\n",
    "    reviews.append(tokens)\n",
    "    return text"
   ]
  },
  {
   "cell_type": "code",
   "execution_count": 33,
   "id": "d1fa451a",
   "metadata": {},
   "outputs": [
    {
     "name": "stdout",
     "output_type": "stream",
     "text": [
      "one review mention watch oz episod hook right exactli happen first thing struck oz brutal unflinch scene violenc set right word go trust show faint heart timid show pull punch regard drug sex violenc hardcor classic use word call oz nicknam given oswald maximum secur state penitentari focus mainli emerald citi experiment section prison cell glass front face inward privaci high agenda em citi home mani aryan muslim gangsta latino christian italian irish scuffl death stare dodgi deal shadi agreement never far away would say main appeal show due fact goe show dare forget pretti pictur paint mainstream audienc forget charm forget romanc oz mess around first episod ever saw struck nasti surreal say readi watch develop tast oz got accustom high level graphic violenc violenc injustic crook guard sold nickel inmat kill order get away well manner middl class inmat turn prison bitch due lack street skill prison experi watch oz may becom comfort uncomfort view that get touch darker side\n"
     ]
    }
   ],
   "source": [
    "dataframe['review'] = np.vectorize(lemmatization)(dataframe['review'])\n",
    "print(dataframe.loc[0, 'review'])"
   ]
  },
  {
   "cell_type": "markdown",
   "id": "c96f9356",
   "metadata": {},
   "source": [
    "#### word2vec"
   ]
  },
  {
   "cell_type": "code",
   "execution_count": 34,
   "id": "53484c4c",
   "metadata": {},
   "outputs": [
    {
     "name": "stderr",
     "output_type": "stream",
     "text": [
      "C:\\Users\\rps24\\AppData\\Local\\Temp/ipykernel_17532/2816520733.py:1: VisibleDeprecationWarning: Creating an ndarray from ragged nested sequences (which is a list-or-tuple of lists-or-tuples-or ndarrays with different lengths or shapes) is deprecated. If you meant to do this, you must specify 'dtype=object' when creating the ndarray.\n",
      "  all_reviews = np.array(reviews)\n"
     ]
    }
   ],
   "source": [
    "all_reviews = np.array(reviews)\n",
    "del reviews\n",
    "del dataframe"
   ]
  },
  {
   "cell_type": "code",
   "execution_count": 35,
   "id": "a0d51c72",
   "metadata": {},
   "outputs": [
    {
     "data": {
      "text/plain": [
       "0"
      ]
     },
     "execution_count": 35,
     "metadata": {},
     "output_type": "execute_result"
    }
   ],
   "source": [
    "gc.collect()"
   ]
  },
  {
   "cell_type": "code",
   "execution_count": 36,
   "id": "8817e73d",
   "metadata": {},
   "outputs": [],
   "source": [
    "logging.basicConfig(format='%(asctime)s : %(levelname)s : %(message)s', level=logging.INFO)"
   ]
  },
  {
   "cell_type": "code",
   "execution_count": 37,
   "id": "0710f1a2",
   "metadata": {},
   "outputs": [
    {
     "name": "stderr",
     "output_type": "stream",
     "text": [
      "2021-10-04 18:14:26,677 : INFO : collecting all words and their counts\n",
      "2021-10-04 18:14:26,677 : INFO : PROGRESS: at sentence #0, processed 0 words, keeping 0 word types\n",
      "2021-10-04 18:14:26,946 : INFO : PROGRESS: at sentence #10000, processed 1165655 words, keeping 46765 word types\n",
      "2021-10-04 18:14:27,194 : INFO : PROGRESS: at sentence #20000, processed 2332830 words, keeping 68413 word types\n",
      "2021-10-04 18:14:27,457 : INFO : PROGRESS: at sentence #30000, processed 3497506 words, keeping 86270 word types\n",
      "2021-10-04 18:14:27,733 : INFO : PROGRESS: at sentence #40000, processed 4662105 words, keeping 102404 word types\n",
      "2021-10-04 18:14:28,001 : INFO : collected 116586 word types from a corpus of 5783805 raw words and 49583 sentences\n",
      "2021-10-04 18:14:28,005 : INFO : Loading a fresh vocabulary\n",
      "2021-10-04 18:14:28,189 : INFO : effective_min_count=1 retains 116586 unique words (100% of original 116586, drops 0)\n",
      "2021-10-04 18:14:28,189 : INFO : effective_min_count=1 leaves 5783805 word corpus (100% of original 5783805, drops 0)\n",
      "2021-10-04 18:14:28,513 : INFO : deleting the raw counts dictionary of 116586 items\n",
      "2021-10-04 18:14:28,517 : INFO : sample=0.001 downsamples 35 most-common words\n",
      "2021-10-04 18:14:28,517 : INFO : downsampling leaves estimated 5463709 word corpus (94.5% of prior 5783805)\n",
      "2021-10-04 18:14:28,804 : INFO : estimated required memory for 116586 words and 256 dimensions: 297061128 bytes\n",
      "2021-10-04 18:14:28,804 : INFO : resetting layer weights\n",
      "2021-10-04 18:14:50,315 : INFO : training model with 5 workers on 116586 vocabulary and 256 features, using sg=2 hs=0 sample=0.001 negative=5 window=3\n",
      "2021-10-04 18:14:51,337 : INFO : EPOCH 1 - PROGRESS: at 7.05% examples, 380433 words/s, in_qsize 9, out_qsize 0\n",
      "2021-10-04 18:14:52,337 : INFO : EPOCH 1 - PROGRESS: at 14.67% examples, 401304 words/s, in_qsize 9, out_qsize 0\n",
      "2021-10-04 18:14:53,379 : INFO : EPOCH 1 - PROGRESS: at 22.54% examples, 405249 words/s, in_qsize 9, out_qsize 0\n",
      "2021-10-04 18:14:54,409 : INFO : EPOCH 1 - PROGRESS: at 30.68% examples, 410747 words/s, in_qsize 9, out_qsize 0\n",
      "2021-10-04 18:14:55,414 : INFO : EPOCH 1 - PROGRESS: at 38.50% examples, 412761 words/s, in_qsize 9, out_qsize 0\n",
      "2021-10-04 18:14:56,439 : INFO : EPOCH 1 - PROGRESS: at 45.23% examples, 404770 words/s, in_qsize 9, out_qsize 0\n",
      "2021-10-04 18:14:57,438 : INFO : EPOCH 1 - PROGRESS: at 51.55% examples, 396536 words/s, in_qsize 9, out_qsize 0\n",
      "2021-10-04 18:14:58,457 : INFO : EPOCH 1 - PROGRESS: at 59.39% examples, 398563 words/s, in_qsize 9, out_qsize 0\n",
      "2021-10-04 18:14:59,458 : INFO : EPOCH 1 - PROGRESS: at 66.29% examples, 396885 words/s, in_qsize 9, out_qsize 0\n",
      "2021-10-04 18:15:00,473 : INFO : EPOCH 1 - PROGRESS: at 74.05% examples, 398645 words/s, in_qsize 9, out_qsize 0\n",
      "2021-10-04 18:15:01,479 : INFO : EPOCH 1 - PROGRESS: at 82.03% examples, 401339 words/s, in_qsize 10, out_qsize 0\n",
      "2021-10-04 18:15:02,479 : INFO : EPOCH 1 - PROGRESS: at 89.55% examples, 402977 words/s, in_qsize 9, out_qsize 0\n",
      "2021-10-04 18:15:03,502 : INFO : EPOCH 1 - PROGRESS: at 96.42% examples, 399986 words/s, in_qsize 9, out_qsize 0\n",
      "2021-10-04 18:15:03,876 : INFO : worker thread finished; awaiting finish of 4 more threads\n",
      "2021-10-04 18:15:03,899 : INFO : worker thread finished; awaiting finish of 3 more threads\n",
      "2021-10-04 18:15:03,919 : INFO : worker thread finished; awaiting finish of 2 more threads\n",
      "2021-10-04 18:15:03,933 : INFO : worker thread finished; awaiting finish of 1 more threads\n",
      "2021-10-04 18:15:03,955 : INFO : worker thread finished; awaiting finish of 0 more threads\n",
      "2021-10-04 18:15:03,955 : INFO : EPOCH - 1 : training on 5783805 raw words (5464250 effective words) took 13.6s, 400886 effective words/s\n",
      "2021-10-04 18:15:04,985 : INFO : EPOCH 2 - PROGRESS: at 6.54% examples, 349190 words/s, in_qsize 9, out_qsize 0\n",
      "2021-10-04 18:15:06,002 : INFO : EPOCH 2 - PROGRESS: at 13.50% examples, 364033 words/s, in_qsize 9, out_qsize 0\n",
      "2021-10-04 18:15:07,004 : INFO : EPOCH 2 - PROGRESS: at 21.22% examples, 382518 words/s, in_qsize 9, out_qsize 0\n",
      "2021-10-04 18:15:08,015 : INFO : EPOCH 2 - PROGRESS: at 28.22% examples, 381750 words/s, in_qsize 9, out_qsize 0\n",
      "2021-10-04 18:15:09,029 : INFO : EPOCH 2 - PROGRESS: at 35.51% examples, 383018 words/s, in_qsize 9, out_qsize 0\n",
      "2021-10-04 18:15:10,039 : INFO : EPOCH 2 - PROGRESS: at 43.03% examples, 387223 words/s, in_qsize 9, out_qsize 0\n",
      "2021-10-04 18:15:11,057 : INFO : EPOCH 2 - PROGRESS: at 50.56% examples, 389703 words/s, in_qsize 9, out_qsize 0\n",
      "2021-10-04 18:15:12,066 : INFO : EPOCH 2 - PROGRESS: at 56.96% examples, 383975 words/s, in_qsize 9, out_qsize 0\n",
      "2021-10-04 18:15:13,098 : INFO : EPOCH 2 - PROGRESS: at 63.54% examples, 380343 words/s, in_qsize 10, out_qsize 0\n",
      "2021-10-04 18:15:14,118 : INFO : EPOCH 2 - PROGRESS: at 70.77% examples, 380992 words/s, in_qsize 9, out_qsize 0\n",
      "2021-10-04 18:15:15,140 : INFO : EPOCH 2 - PROGRESS: at 77.66% examples, 379605 words/s, in_qsize 10, out_qsize 0\n",
      "2021-10-04 18:15:16,159 : INFO : EPOCH 2 - PROGRESS: at 84.08% examples, 376236 words/s, in_qsize 10, out_qsize 0\n",
      "2021-10-04 18:15:17,165 : INFO : EPOCH 2 - PROGRESS: at 90.05% examples, 373053 words/s, in_qsize 9, out_qsize 0\n",
      "2021-10-04 18:15:18,212 : INFO : EPOCH 2 - PROGRESS: at 96.92% examples, 371861 words/s, in_qsize 9, out_qsize 0\n",
      "2021-10-04 18:15:18,529 : INFO : worker thread finished; awaiting finish of 4 more threads\n",
      "2021-10-04 18:15:18,606 : INFO : worker thread finished; awaiting finish of 3 more threads\n",
      "2021-10-04 18:15:18,606 : INFO : worker thread finished; awaiting finish of 2 more threads\n",
      "2021-10-04 18:15:18,616 : INFO : worker thread finished; awaiting finish of 1 more threads\n",
      "2021-10-04 18:15:18,622 : INFO : worker thread finished; awaiting finish of 0 more threads\n",
      "2021-10-04 18:15:18,622 : INFO : EPOCH - 2 : training on 5783805 raw words (5463261 effective words) took 14.7s, 372742 effective words/s\n",
      "2021-10-04 18:15:19,641 : INFO : EPOCH 3 - PROGRESS: at 6.88% examples, 371836 words/s, in_qsize 9, out_qsize 0\n",
      "2021-10-04 18:15:20,643 : INFO : EPOCH 3 - PROGRESS: at 14.18% examples, 387133 words/s, in_qsize 9, out_qsize 0\n",
      "2021-10-04 18:15:21,645 : INFO : EPOCH 3 - PROGRESS: at 21.38% examples, 389310 words/s, in_qsize 9, out_qsize 0\n",
      "2021-10-04 18:15:22,693 : INFO : EPOCH 3 - PROGRESS: at 28.94% examples, 389915 words/s, in_qsize 10, out_qsize 0\n",
      "2021-10-04 18:15:23,749 : INFO : EPOCH 3 - PROGRESS: at 36.74% examples, 392008 words/s, in_qsize 9, out_qsize 0\n",
      "2021-10-04 18:15:24,859 : INFO : EPOCH 3 - PROGRESS: at 43.90% examples, 385558 words/s, in_qsize 9, out_qsize 0\n",
      "2021-10-04 18:15:25,867 : INFO : EPOCH 3 - PROGRESS: at 50.74% examples, 383464 words/s, in_qsize 9, out_qsize 0\n",
      "2021-10-04 18:15:26,896 : INFO : EPOCH 3 - PROGRESS: at 58.38% examples, 385429 words/s, in_qsize 9, out_qsize 0\n",
      "2021-10-04 18:15:27,912 : INFO : EPOCH 3 - PROGRESS: at 64.73% examples, 381567 words/s, in_qsize 9, out_qsize 0\n",
      "2021-10-04 18:15:28,915 : INFO : EPOCH 3 - PROGRESS: at 71.97% examples, 382599 words/s, in_qsize 10, out_qsize 0\n",
      "2021-10-04 18:15:29,929 : INFO : EPOCH 3 - PROGRESS: at 76.82% examples, 371506 words/s, in_qsize 9, out_qsize 0\n",
      "2021-10-04 18:15:30,956 : INFO : EPOCH 3 - PROGRESS: at 81.84% examples, 362498 words/s, in_qsize 9, out_qsize 0\n",
      "2021-10-04 18:15:31,958 : INFO : EPOCH 3 - PROGRESS: at 88.06% examples, 361271 words/s, in_qsize 9, out_qsize 0\n",
      "2021-10-04 18:15:32,993 : INFO : EPOCH 3 - PROGRESS: at 95.05% examples, 361899 words/s, in_qsize 9, out_qsize 0\n",
      "2021-10-04 18:15:33,568 : INFO : worker thread finished; awaiting finish of 4 more threads\n",
      "2021-10-04 18:15:33,605 : INFO : worker thread finished; awaiting finish of 3 more threads\n",
      "2021-10-04 18:15:33,607 : INFO : worker thread finished; awaiting finish of 2 more threads\n",
      "2021-10-04 18:15:33,635 : INFO : worker thread finished; awaiting finish of 1 more threads\n",
      "2021-10-04 18:15:33,645 : INFO : worker thread finished; awaiting finish of 0 more threads\n",
      "2021-10-04 18:15:33,646 : INFO : EPOCH - 3 : training on 5783805 raw words (5464444 effective words) took 15.0s, 363967 effective words/s\n",
      "2021-10-04 18:15:34,665 : INFO : EPOCH 4 - PROGRESS: at 6.54% examples, 353533 words/s, in_qsize 9, out_qsize 0\n",
      "2021-10-04 18:15:35,688 : INFO : EPOCH 4 - PROGRESS: at 12.97% examples, 351123 words/s, in_qsize 9, out_qsize 0\n"
     ]
    },
    {
     "name": "stderr",
     "output_type": "stream",
     "text": [
      "2021-10-04 18:15:36,688 : INFO : EPOCH 4 - PROGRESS: at 20.41% examples, 368137 words/s, in_qsize 9, out_qsize 0\n",
      "2021-10-04 18:15:37,693 : INFO : EPOCH 4 - PROGRESS: at 28.06% examples, 380781 words/s, in_qsize 9, out_qsize 0\n",
      "2021-10-04 18:15:38,709 : INFO : EPOCH 4 - PROGRESS: at 35.87% examples, 387748 words/s, in_qsize 9, out_qsize 0\n",
      "2021-10-04 18:15:39,718 : INFO : EPOCH 4 - PROGRESS: at 44.43% examples, 400601 words/s, in_qsize 9, out_qsize 0\n",
      "2021-10-04 18:15:40,732 : INFO : EPOCH 4 - PROGRESS: at 52.99% examples, 409315 words/s, in_qsize 9, out_qsize 0\n",
      "2021-10-04 18:15:41,757 : INFO : EPOCH 4 - PROGRESS: at 61.68% examples, 416274 words/s, in_qsize 9, out_qsize 0\n",
      "2021-10-04 18:15:42,782 : INFO : EPOCH 4 - PROGRESS: at 70.61% examples, 422931 words/s, in_qsize 9, out_qsize 0\n",
      "2021-10-04 18:15:43,783 : INFO : EPOCH 4 - PROGRESS: at 79.92% examples, 431033 words/s, in_qsize 9, out_qsize 0\n",
      "2021-10-04 18:15:44,786 : INFO : EPOCH 4 - PROGRESS: at 88.74% examples, 435934 words/s, in_qsize 9, out_qsize 0\n",
      "2021-10-04 18:15:45,791 : INFO : EPOCH 4 - PROGRESS: at 98.32% examples, 442920 words/s, in_qsize 9, out_qsize 0\n",
      "2021-10-04 18:15:45,887 : INFO : worker thread finished; awaiting finish of 4 more threads\n",
      "2021-10-04 18:15:45,891 : INFO : worker thread finished; awaiting finish of 3 more threads\n",
      "2021-10-04 18:15:45,937 : INFO : worker thread finished; awaiting finish of 2 more threads\n",
      "2021-10-04 18:15:45,940 : INFO : worker thread finished; awaiting finish of 1 more threads\n",
      "2021-10-04 18:15:45,956 : INFO : worker thread finished; awaiting finish of 0 more threads\n",
      "2021-10-04 18:15:45,956 : INFO : EPOCH - 4 : training on 5783805 raw words (5464575 effective words) took 12.3s, 444292 effective words/s\n",
      "2021-10-04 18:15:46,971 : INFO : EPOCH 5 - PROGRESS: at 9.46% examples, 511239 words/s, in_qsize 9, out_qsize 0\n",
      "2021-10-04 18:15:47,978 : INFO : EPOCH 5 - PROGRESS: at 18.99% examples, 516763 words/s, in_qsize 9, out_qsize 0\n",
      "2021-10-04 18:15:48,987 : INFO : EPOCH 5 - PROGRESS: at 28.94% examples, 523489 words/s, in_qsize 9, out_qsize 0\n",
      "2021-10-04 18:15:49,996 : INFO : EPOCH 5 - PROGRESS: at 38.84% examples, 525394 words/s, in_qsize 9, out_qsize 0\n",
      "2021-10-04 18:15:51,014 : INFO : EPOCH 5 - PROGRESS: at 47.62% examples, 515788 words/s, in_qsize 9, out_qsize 0\n",
      "2021-10-04 18:15:52,015 : INFO : EPOCH 5 - PROGRESS: at 57.32% examples, 517079 words/s, in_qsize 9, out_qsize 0\n",
      "2021-10-04 18:15:53,019 : INFO : EPOCH 5 - PROGRESS: at 66.29% examples, 513686 words/s, in_qsize 9, out_qsize 0\n",
      "2021-10-04 18:15:54,024 : INFO : EPOCH 5 - PROGRESS: at 74.73% examples, 506561 words/s, in_qsize 9, out_qsize 0\n",
      "2021-10-04 18:15:55,030 : INFO : EPOCH 5 - PROGRESS: at 82.89% examples, 498844 words/s, in_qsize 9, out_qsize 0\n",
      "2021-10-04 18:15:56,055 : INFO : EPOCH 5 - PROGRESS: at 92.12% examples, 499170 words/s, in_qsize 9, out_qsize 0\n",
      "2021-10-04 18:15:56,965 : INFO : worker thread finished; awaiting finish of 4 more threads\n",
      "2021-10-04 18:15:56,991 : INFO : worker thread finished; awaiting finish of 3 more threads\n",
      "2021-10-04 18:15:57,016 : INFO : worker thread finished; awaiting finish of 2 more threads\n",
      "2021-10-04 18:15:57,023 : INFO : worker thread finished; awaiting finish of 1 more threads\n",
      "2021-10-04 18:15:57,024 : INFO : worker thread finished; awaiting finish of 0 more threads\n",
      "2021-10-04 18:15:57,025 : INFO : EPOCH - 5 : training on 5783805 raw words (5464272 effective words) took 11.1s, 493951 effective words/s\n",
      "2021-10-04 18:15:57,026 : INFO : training on a 28919025 raw words (27320802 effective words) took 66.7s, 409544 effective words/s\n"
     ]
    }
   ],
   "source": [
    "word2vec_model = Word2Vec(all_reviews, window = 3, min_count = 1, sg = 2, size = 256, workers = 5) #sg --> skipgram\n",
    "#workers --> number of threads in useb"
   ]
  },
  {
   "cell_type": "code",
   "execution_count": 38,
   "id": "f9f117b7",
   "metadata": {},
   "outputs": [
    {
     "name": "stderr",
     "output_type": "stream",
     "text": [
      "2021-10-04 18:15:57,044 : INFO : storing 116586x256 projection weights into ../word_embeddings.txt\n"
     ]
    }
   ],
   "source": [
    "#need to save model here\n",
    "word2vec_model.wv.save_word2vec_format('../word_embeddings.txt')"
   ]
  },
  {
   "cell_type": "code",
   "execution_count": 39,
   "id": "c90b9a2d",
   "metadata": {},
   "outputs": [
    {
     "name": "stderr",
     "output_type": "stream",
     "text": [
      "2021-10-04 18:16:27,396 : INFO : loading projection weights from ../word_embeddings.txt\n",
      "2021-10-04 18:16:43,088 : INFO : loaded (116586, 256) matrix from ../word_embeddings.txt\n"
     ]
    }
   ],
   "source": [
    "word2vec_model = KeyedVectors.load_word2vec_format('../word_embeddings.txt', binary = False, unicode_errors = 'ignore')"
   ]
  },
  {
   "cell_type": "code",
   "execution_count": 40,
   "id": "e3e942d1",
   "metadata": {},
   "outputs": [
    {
     "name": "stderr",
     "output_type": "stream",
     "text": [
      "C:\\Users\\rps24\\AppData\\Local\\Temp/ipykernel_17532/2249627907.py:1: DeprecationWarning: Call to deprecated `wv` (Attribute will be removed in 4.0.0, use self instead).\n",
      "  word2vec_model.wv.similarity('saw', 'may')\n"
     ]
    },
    {
     "data": {
      "text/plain": [
       "0.44250163"
      ]
     },
     "execution_count": 40,
     "metadata": {},
     "output_type": "execute_result"
    }
   ],
   "source": [
    "word2vec_model.wv.similarity('saw', 'may')"
   ]
  },
  {
   "cell_type": "code",
   "execution_count": 41,
   "id": "3fb18e73",
   "metadata": {},
   "outputs": [
    {
     "name": "stderr",
     "output_type": "stream",
     "text": [
      "C:\\Users\\rps24\\AppData\\Local\\Temp/ipykernel_17532/2398758838.py:1: DeprecationWarning: Call to deprecated `wv` (Attribute will be removed in 4.0.0, use self instead).\n",
      "  word2vec_model.wv.similarity('saw', 'say')\n"
     ]
    },
    {
     "data": {
      "text/plain": [
       "0.43232653"
      ]
     },
     "execution_count": 41,
     "metadata": {},
     "output_type": "execute_result"
    }
   ],
   "source": [
    "word2vec_model.wv.similarity('saw', 'say')"
   ]
  },
  {
   "cell_type": "code",
   "execution_count": 42,
   "id": "acbda6ba",
   "metadata": {},
   "outputs": [
    {
     "name": "stderr",
     "output_type": "stream",
     "text": [
      "C:\\Users\\rps24\\AppData\\Local\\Temp/ipykernel_17532/614821656.py:1: DeprecationWarning: Call to deprecated `wv` (Attribute will be removed in 4.0.0, use self instead).\n",
      "  word2vec_model.wv.similarity('say', 'may')\n"
     ]
    },
    {
     "data": {
      "text/plain": [
       "0.45469904"
      ]
     },
     "execution_count": 42,
     "metadata": {},
     "output_type": "execute_result"
    }
   ],
   "source": [
    "word2vec_model.wv.similarity('say', 'may')"
   ]
  },
  {
   "cell_type": "code",
   "execution_count": 43,
   "id": "5b4c57eb",
   "metadata": {},
   "outputs": [
    {
     "name": "stderr",
     "output_type": "stream",
     "text": [
      "C:\\Users\\rps24\\AppData\\Local\\Temp/ipykernel_17532/824283604.py:1: DeprecationWarning: Call to deprecated `wv` (Attribute will be removed in 4.0.0, use self instead).\n",
      "  word2vec_model.wv.similarity('gangsta', 'latino')\n"
     ]
    },
    {
     "data": {
      "text/plain": [
       "0.6966977"
      ]
     },
     "execution_count": 43,
     "metadata": {},
     "output_type": "execute_result"
    }
   ],
   "source": [
    "word2vec_model.wv.similarity('gangsta', 'latino')"
   ]
  },
  {
   "cell_type": "code",
   "execution_count": 44,
   "id": "d1006ad5",
   "metadata": {},
   "outputs": [
    {
     "name": "stderr",
     "output_type": "stream",
     "text": [
      "C:\\Users\\rps24\\AppData\\Local\\Temp/ipykernel_17532/2160411253.py:1: DeprecationWarning: Call to deprecated `wv` (Attribute will be removed in 4.0.0, use self instead).\n",
      "  len(word2vec_model.wv.vocab)\n"
     ]
    },
    {
     "data": {
      "text/plain": [
       "116586"
      ]
     },
     "execution_count": 44,
     "metadata": {},
     "output_type": "execute_result"
    }
   ],
   "source": [
    "len(word2vec_model.wv.vocab)"
   ]
  },
  {
   "cell_type": "code",
   "execution_count": 45,
   "id": "ab8a29e1",
   "metadata": {},
   "outputs": [
    {
     "data": {
      "text/plain": [
       "0"
      ]
     },
     "execution_count": 45,
     "metadata": {},
     "output_type": "execute_result"
    }
   ],
   "source": [
    "gc.collect()"
   ]
  },
  {
   "cell_type": "markdown",
   "id": "01f9d11f",
   "metadata": {},
   "source": [
    "#### load dictionary of word to vectors --> from gensim instance to dictionary"
   ]
  },
  {
   "cell_type": "code",
   "execution_count": 46,
   "id": "c46a721c",
   "metadata": {},
   "outputs": [],
   "source": [
    "embedding = {}\n",
    "with open('../word_embeddings.txt', encoding = 'utf-8') as f:\n",
    "    #page = f.read()\n",
    "    for line in f:\n",
    "        record = line.split()\n",
    "        #print(record[0])\n",
    "        #word = record[0]\n",
    "        embedding[record[0]] = np.asarray(record[1:])        "
   ]
  },
  {
   "cell_type": "code",
   "execution_count": 47,
   "id": "225c2aeb",
   "metadata": {},
   "outputs": [
    {
     "name": "stdout",
     "output_type": "stream",
     "text": [
      "116587\n"
     ]
    }
   ],
   "source": [
    "print(len(embedding))"
   ]
  },
  {
   "cell_type": "code",
   "execution_count": 48,
   "id": "020c4a27",
   "metadata": {},
   "outputs": [
    {
     "data": {
      "text/plain": [
       "0"
      ]
     },
     "execution_count": 48,
     "metadata": {},
     "output_type": "execute_result"
    }
   ],
   "source": [
    "gc.collect()"
   ]
  },
  {
   "cell_type": "markdown",
   "id": "89064bc4",
   "metadata": {},
   "source": [
    "#### simple rnn"
   ]
  },
  {
   "cell_type": "code",
   "execution_count": null,
   "id": "e6ea1f07",
   "metadata": {},
   "outputs": [],
   "source": []
  },
  {
   "cell_type": "markdown",
   "id": "85a39434",
   "metadata": {},
   "source": [
    "#### metrics"
   ]
  },
  {
   "cell_type": "code",
   "execution_count": null,
   "id": "df68340c",
   "metadata": {},
   "outputs": [],
   "source": []
  },
  {
   "cell_type": "code",
   "execution_count": null,
   "id": "2640fb7a",
   "metadata": {},
   "outputs": [],
   "source": []
  },
  {
   "cell_type": "code",
   "execution_count": null,
   "id": "f6a80ef9",
   "metadata": {},
   "outputs": [],
   "source": []
  },
  {
   "cell_type": "code",
   "execution_count": null,
   "id": "32186348",
   "metadata": {},
   "outputs": [],
   "source": []
  },
  {
   "cell_type": "code",
   "execution_count": null,
   "id": "622fee1f",
   "metadata": {},
   "outputs": [],
   "source": []
  }
 ],
 "metadata": {
  "kernelspec": {
   "display_name": "Python 3 (ipykernel)",
   "language": "python",
   "name": "python3"
  },
  "language_info": {
   "codemirror_mode": {
    "name": "ipython",
    "version": 3
   },
   "file_extension": ".py",
   "mimetype": "text/x-python",
   "name": "python",
   "nbconvert_exporter": "python",
   "pygments_lexer": "ipython3",
   "version": "3.9.7"
  }
 },
 "nbformat": 4,
 "nbformat_minor": 5
}
